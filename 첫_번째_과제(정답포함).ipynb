{
  "nbformat": 4,
  "nbformat_minor": 0,
  "metadata": {
    "colab": {
      "provenance": [],
      "include_colab_link": true
    },
    "kernelspec": {
      "name": "python3",
      "display_name": "Python 3"
    }
  },
  "cells": [
    {
      "cell_type": "markdown",
      "metadata": {
        "id": "view-in-github",
        "colab_type": "text"
      },
      "source": [
        "<a href=\"https://colab.research.google.com/github/goforit615/-/blob/main/%EC%B2%AB_%EB%B2%88%EC%A7%B8_%EA%B3%BC%EC%A0%9C(%EC%A0%95%EB%8B%B5%ED%8F%AC%ED%95%A8).ipynb\" target=\"_parent\"><img src=\"https://colab.research.google.com/assets/colab-badge.svg\" alt=\"Open In Colab\"/></a>"
      ]
    },
    {
      "cell_type": "markdown",
      "metadata": {
        "id": "fvkMnlMblU4g"
      },
      "source": [
        "## **00 과제 제출 예시**\n",
        "아래와 같이 출력 결과와 동일한 출력을 해주시면 됩니다.\n"
      ]
    },
    {
      "cell_type": "code",
      "metadata": {
        "colab": {
          "base_uri": "https://localhost:8080/"
        },
        "id": "-ezw0UmWlVLx",
        "outputId": "366ed30b-ac78-4bb2-efc0-fafa854ca85f"
      },
      "source": [
        "# 출력 결과 : 광주소프트웨어마이스터고등학교\n",
        "print(\"광주소프트웨어마이스터고등학교\")"
      ],
      "execution_count": null,
      "outputs": [
        {
          "output_type": "stream",
          "name": "stdout",
          "text": [
            "광주소프트웨어마이스터고등학교\n"
          ]
        }
      ]
    },
    {
      "cell_type": "markdown",
      "metadata": {
        "id": "07to2cpfG8Nh"
      },
      "source": [
        "## **01 \"Hello World!\" 출력하기**\n",
        "Hello World!를 출력해 주세요."
      ]
    },
    {
      "cell_type": "code",
      "metadata": {
        "colab": {
          "base_uri": "https://localhost:8080/"
        },
        "id": "ZrZJJwHNG79X",
        "outputId": "3a4bc31c-c849-4f03-dc34-718aaaed97b6"
      },
      "source": [
        "# 출력 결과 : Hello World!\n",
        "print(\"Hello World!\")"
      ],
      "execution_count": null,
      "outputs": [
        {
          "output_type": "stream",
          "name": "stdout",
          "text": [
            "Hello World!\n"
          ]
        }
      ]
    },
    {
      "cell_type": "markdown",
      "metadata": {
        "id": "57VL4PzidvGD"
      },
      "source": [
        "## **02 데이터 타입**\n",
        "다음 변수 a, 변수 b, 변수 c의 자료형을 한 줄에 출력해 주세요."
      ]
    },
    {
      "cell_type": "code",
      "metadata": {
        "colab": {
          "base_uri": "https://localhost:8080/"
        },
        "id": "zjMxPKzxbk6k",
        "outputId": "be65d270-f896-4b4b-945d-e0d95439dbb6"
      },
      "source": [
        "# 주어진 변수(a, b, c) 직접 수정 불가\n",
        "# 출력 결과 : <class 'str'> <class 'int'> <class 'bool'>\n",
        "\n",
        "a = 'str'\n",
        "b = 123\n",
        "c = True\n",
        "\n",
        "\n",
        "print(type(a), type(b), type(c))"
      ],
      "execution_count": null,
      "outputs": [
        {
          "output_type": "stream",
          "name": "stdout",
          "text": [
            "<class 'str'> <class 'int'> <class 'bool'>\n"
          ]
        }
      ]
    },
    {
      "cell_type": "markdown",
      "metadata": {
        "id": "TczAk81deevG"
      },
      "source": [
        "## **03 사칙연산**\n",
        "아래 1), 2), 3), 4)를 보시고 한 줄에 출력해 주세요.\n",
        "\n",
        "1) a의 b 제곱을 출력하시오.\n",
        "\n",
        "2) a를 b로 나눈 나머지를 출력하시오.\n",
        "\n",
        "3) a를 b로 나눈 몫을 출력하시오.\n",
        "\n",
        "4) a를 b로 나눈 값을 출력하시오."
      ]
    },
    {
      "cell_type": "code",
      "metadata": {
        "colab": {
          "base_uri": "https://localhost:8080/"
        },
        "id": "3s9j6oleeRu_",
        "outputId": "2b159d94-851f-4b57-961b-77fbe6024bc6"
      },
      "source": [
        "# 주어진 변수 (a, b) 직접 수정 불가\n",
        "# 출력 결과 : 2401 3 1 1.75\n",
        "\n",
        "a = 7\n",
        "b = 4\n",
        "\n",
        "print(a**b, a%b, a//b, a/b)"
      ],
      "execution_count": null,
      "outputs": [
        {
          "output_type": "stream",
          "name": "stdout",
          "text": [
            "2401 3 1 1.75\n"
          ]
        }
      ]
    },
    {
      "cell_type": "markdown",
      "metadata": {
        "id": "xGKXNV0Jivak"
      },
      "source": [
        "## **04 평균 구하기**\n",
        "광주 소프트웨어마이스터고등학교를 다니는 홍길동 씨의 1주차 과목별 점수는 다음과 같다. 주어진 변수를 활용하여 홍길동 씨의 평균 점수를 출력해 주세요.\n",
        "\n",
        "- 인공지능을 위한 수학 : 79\n",
        "- 머신러닝 : 83\n",
        "- 딥러닝 : 89\n",
        "- 알고리즘 : 76"
      ]
    },
    {
      "cell_type": "markdown",
      "source": [],
      "metadata": {
        "id": "4HBq2afjY2pV"
      }
    },
    {
      "cell_type": "code",
      "metadata": {
        "colab": {
          "base_uri": "https://localhost:8080/"
        },
        "id": "dcL4t-Rzjlzj",
        "outputId": "10c10c81-8d02-4b39-d027-28a8dd0d8f90"
      },
      "source": [
        "# 주어진 변수(ai_math, machine_learning, deep_learning, algorithm) 직접 수정 불가\n",
        "# 출력 결과 : 81.75\n",
        "ai_math = 79\n",
        "machine_learning = 83\n",
        "deep_learning = 89\n",
        "algorithm = 76\n",
        "\n",
        "print((ai_math+machine_learning+deep_learning+algorithm)/4)"
      ],
      "execution_count": null,
      "outputs": [
        {
          "output_type": "stream",
          "name": "stdout",
          "text": [
            "81.75\n"
          ]
        }
      ]
    },
    {
      "cell_type": "markdown",
      "metadata": {
        "id": "cikxQewBpk62"
      },
      "source": [
        "## **05 문자열 인덱싱과 슬라이싱**\n",
        "'Gwang ju'의 'j'와 'ang j'를 인덱싱을 활용하여 한 줄에 출력해 주세요.\n",
        "\n"
      ]
    },
    {
      "cell_type": "code",
      "metadata": {
        "colab": {
          "base_uri": "https://localhost:8080/"
        },
        "id": "dlcwNeOLp21j",
        "outputId": "fd85c321-0f67-4b9e-bbc2-385f80dd284f"
      },
      "source": [
        "# 주어진 변수 (str_ai) 직접 수정 불가\n",
        "# 출력 결과 : j ang j\n",
        "str_ai = 'Gwang ju'\n",
        "\n",
        "print(str_ai[6], str_ai[2:7])"
      ],
      "execution_count": null,
      "outputs": [
        {
          "output_type": "stream",
          "name": "stdout",
          "text": [
            "j ang j\n"
          ]
        }
      ]
    },
    {
      "cell_type": "markdown",
      "metadata": {
        "id": "XP3BJpr3utjj"
      },
      "source": [
        "## **06 리스트 인덱싱**\n",
        "아래 list_ai 안의 ['a', 'b', 'c']를 인덱싱을 활용하여 출력해 주세요."
      ]
    },
    {
      "cell_type": "code",
      "metadata": {
        "colab": {
          "base_uri": "https://localhost:8080/"
        },
        "id": "WtY_0rtEuzkA",
        "outputId": "afba228a-562d-4f2f-e9af-aac1fe2bc263"
      },
      "source": [
        "# 주어진 변수(list_ai) 직접 수정 불가\n",
        "# 출력 결과 : ['a', 'b', 'c']\n",
        "\n",
        "list_ai = [1, 2, 3, ['a', 'b', 'c']]\n",
        "\n",
        "print(list_ai[-1])"
      ],
      "execution_count": null,
      "outputs": [
        {
          "output_type": "stream",
          "name": "stdout",
          "text": [
            "['a', 'b', 'c']\n"
          ]
        }
      ]
    },
    {
      "cell_type": "markdown",
      "metadata": {
        "id": "y5cDbSEkyue1"
      },
      "source": [
        "## **07 삼중 리스트 인덱싱**\n",
        "아래 list_ai 안의 문자 'Software'와 'Maister'를 인덱싱과 문자열 더하기를 활용하여 'AI'로 출력해 주세요."
      ]
    },
    {
      "cell_type": "code",
      "metadata": {
        "colab": {
          "base_uri": "https://localhost:8080/"
        },
        "id": "nR7gmsoXxsWW",
        "outputId": "b589eadb-20a0-4ca2-f7d8-d8a25363b01d"
      },
      "source": [
        "# 주어진 변수 (list_ai) 직접 수정 불가\n",
        "# 출력 결과 : SoftwareMaister\n",
        "list_ai = ['GSM', 'School', ['Software', 'Gwang', ['Ju', 'Maister']]]\n",
        "\n",
        "print(list_ai[2][0]+list_ai[2][2][1])"
      ],
      "execution_count": null,
      "outputs": [
        {
          "output_type": "stream",
          "name": "stdout",
          "text": [
            "SoftwareMaister\n"
          ]
        }
      ]
    },
    {
      "cell_type": "markdown",
      "metadata": {
        "id": "MF0SbaG_IoaJ"
      },
      "source": [
        "## **08 리스트 뒤집기**\n",
        "아래 list_ai을 내장함수를 사용하여 거꾸로 출력해 주세요."
      ]
    },
    {
      "cell_type": "code",
      "metadata": {
        "colab": {
          "base_uri": "https://localhost:8080/"
        },
        "id": "pYjBM0ksIoyR",
        "outputId": "89876aa2-705e-46ba-c0cf-e32680443059"
      },
      "source": [
        "# 주어진 변수(list_ai) 직접 수정 불가\n",
        "# 출력 결과 (['광', '주', '소', '프', '트', '웨', '어', '마', '이', '스', '터', '고', '등', '학', '교'])\n",
        "\n",
        "list_ai = ['교', '학', '등', '고', '터', '스', '이', '마', '어', '웨', '트', '소', '주', '광']\n",
        "list_ai.reverse()\n",
        "\n",
        "print(list_ai)"
      ],
      "execution_count": null,
      "outputs": [
        {
          "output_type": "stream",
          "name": "stdout",
          "text": [
            "['광', '주', '소', '트', '웨', '어', '마', '이', '스', '터', '고', '등', '학', '교']\n"
          ]
        }
      ]
    },
    {
      "cell_type": "markdown",
      "metadata": {
        "id": "-S1yHJtXNYas"
      },
      "source": [
        "## **09 문자열 나누기**\n",
        "아래의 str_ai, str_ai2 변수를 내장함수를 활용하여 ['광주', '소프트웨어', '마이스터', '고등학교']가 2번 나오도록 출력해 주세요."
      ]
    },
    {
      "cell_type": "code",
      "metadata": {
        "id": "GbOSFsVNNZHt",
        "colab": {
          "base_uri": "https://localhost:8080/"
        },
        "outputId": "925173d6-ca27-4776-a2d6-3452bbd82e49"
      },
      "source": [
        "# 주어진 변수(str_ai, str_ai2) 및 print(str_ai, str_ai2)문 직접 수정 불가\n",
        "# 출력 결과 (['광주', '소프트웨어', '마이스터', '사관학교'] ['광주', '소프트웨어', '마이스터', '고등학교'])\n",
        "\n",
        "str_ai = '광주 소프트웨어 마이스터 고등학교'\n",
        "str_ai2 = '광주;소프트웨어;마이스터;고등학교'\n",
        "\n",
        "str_ai = str_ai.split()\n",
        "str_ai2 = str_ai2.split(';')\n",
        "\n",
        "print(str_ai, str_ai2)"
      ],
      "execution_count": null,
      "outputs": [
        {
          "output_type": "stream",
          "name": "stdout",
          "text": [
            "['광주', '소프트웨어', '마이스터', '고등학교'] ['광주', '소프트웨어', '마이스터', '고등학교']\n"
          ]
        }
      ]
    },
    {
      "cell_type": "markdown",
      "metadata": {
        "id": "GVOV9JicrUYT"
      },
      "source": [
        "## **10 문자열 바꾸기**\n",
        "아래의 str_ai 변수에 할당된 '괌주 소프트웨어마이스터고등학교' 문자열에서 오타인 '괌주'를 내장함수를 활용하여 '광주'로 바꾸어 '광주 소프트웨어마이스터고등학교'로 출력해 주세요."
      ]
    },
    {
      "cell_type": "code",
      "metadata": {
        "colab": {
          "base_uri": "https://localhost:8080/"
        },
        "id": "SMmTUOscrU0y",
        "outputId": "b59003e1-e3c8-4af4-d751-5b88b77866f7"
      },
      "source": [
        "# 주어진 변수 (str_ai) 및 print(str_ai)문 직접 수정 불가\n",
        "# 출력 결과 (광주 소프트웨어마이스터고등학교)\n",
        "\n",
        "str_ai = '괌주 소프트웨어마이스터고등학교'\n",
        "str_ai = str_ai.replace('괌주','광주')\n",
        "\n",
        "print(str_ai)"
      ],
      "execution_count": null,
      "outputs": [
        {
          "output_type": "stream",
          "name": "stdout",
          "text": [
            "광주 소프트웨어마이스터고등학교\n"
          ]
        }
      ]
    },
    {
      "cell_type": "markdown",
      "metadata": {
        "id": "DVt0uqWvuNP4"
      },
      "source": [
        "## **11 리스트 정렬**\n",
        "광주 소프트웨어마이스터고등학교 학생인 홍길동은 이번 시험 성적이 담긴 리스트 scores를 높은 성적순으로 정렬을 하려고 한다. 내장함수를 활용하여 리스트를 재정렬 후 출력해 주세요."
      ]
    },
    {
      "cell_type": "code",
      "metadata": {
        "colab": {
          "base_uri": "https://localhost:8080/"
        },
        "id": "ylhXASgkuNf1",
        "outputId": "f1596486-826f-40f9-ec52-c170ccbe9b64"
      },
      "source": [
        "# 주어진 변수(scores) 및 print(scores) 직접 수정 불가\n",
        "# 출력 결과 : [89, 83, 78, 76]\n",
        "\n",
        "scores = [78, 83, 89, 76]\n",
        "scores.sort(reverse = True)\n",
        "\n",
        "print(scores)"
      ],
      "execution_count": null,
      "outputs": [
        {
          "output_type": "stream",
          "name": "stdout",
          "text": [
            "[89, 83, 78, 76]\n"
          ]
        }
      ]
    },
    {
      "cell_type": "markdown",
      "metadata": {
        "id": "NySA07XHxjhy"
      },
      "source": [
        "## **12 리스트 요소 추가**\n",
        "아래 리스트list_ai의 마지막 요소로 int_ai를 추가하려고 한다. 내장함수를 활용하여 int_ai가 포함된 list_ai를 출력해 주세요."
      ]
    },
    {
      "cell_type": "code",
      "metadata": {
        "colab": {
          "base_uri": "https://localhost:8080/"
        },
        "id": "H8BK3n3ixj1B",
        "outputId": "e66fc52c-1f60-41ef-c46e-38ab0ce64f7b"
      },
      "source": [
        "# 주어진 변수(list_ai, int_ai) 및 print(list_ai) 직접 수정 불가\n",
        "# 출력 결과 : [78, 77, 54, 55, 87, 98]\n",
        "\n",
        "list_ai = [78,77,54,55,87]\n",
        "int_ai = 98\n",
        "\n",
        "list_ai.append(int_ai)\n",
        "\n",
        "print(list_ai)"
      ],
      "execution_count": null,
      "outputs": [
        {
          "output_type": "stream",
          "name": "stdout",
          "text": [
            "[78, 77, 54, 55, 87, 98]\n"
          ]
        }
      ]
    },
    {
      "cell_type": "markdown",
      "metadata": {
        "id": "t6XOjv_p-9tU"
      },
      "source": [
        "## **13 리스트 총 개수(길이)**\n",
        "아래의 list_ai의 요소 총 개수(길이)를 내장함수를 사용하여 출력해 주세요."
      ]
    },
    {
      "cell_type": "code",
      "metadata": {
        "colab": {
          "base_uri": "https://localhost:8080/"
        },
        "id": "vCRYBmNp-9_F",
        "outputId": "b595a656-9cc8-4e56-943c-fa2a45d7eb0b"
      },
      "source": [
        "# 주어진 변수(list_ai) 직접 수정 불가\n",
        "# 출력 결과 : 5\n",
        "\n",
        "list_ai = ['소프트웨어', '광주', '마이스터', '학교', '고등']\n",
        "\n",
        "print(len(list_ai))"
      ],
      "execution_count": null,
      "outputs": [
        {
          "output_type": "stream",
          "name": "stdout",
          "text": [
            "5\n"
          ]
        }
      ]
    },
    {
      "cell_type": "markdown",
      "metadata": {
        "id": "9zmBNVyZJzr8"
      },
      "source": [
        "## **14 리스트 요소 위치 반환**\n",
        "아래의 list_ai의 요소 중 '학교'의 위치를 내장함수를 사용하여 출력해 주세요."
      ]
    },
    {
      "cell_type": "code",
      "metadata": {
        "colab": {
          "base_uri": "https://localhost:8080/"
        },
        "id": "tYkP0Y8zJzJU",
        "outputId": "1468da35-04e3-417e-e856-daeab6c44538"
      },
      "source": [
        "# 주어진 변수(list_ai) 직접 수정 불가\n",
        "# 출력 결과 : 3\n",
        "\n",
        "list_ai = ['소프트웨어', '광주', '마이스터', '학교', '고등']\n",
        "\n",
        "\n",
        "print(list_ai.index('학교'))"
      ],
      "execution_count": null,
      "outputs": [
        {
          "output_type": "stream",
          "name": "stdout",
          "text": [
            "3\n"
          ]
        }
      ]
    }
  ]
}